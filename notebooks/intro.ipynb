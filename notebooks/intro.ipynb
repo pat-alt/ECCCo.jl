{
  "cells": [
    {
      "cell_type": "code",
      "metadata": {},
      "source": [
        "include(\"notebooks/setup.jl\")\n",
        "eval(setup_notebooks)"
      ],
      "id": "dfd65706",
      "execution_count": null,
      "outputs": []
    },
    {
      "cell_type": "markdown",
      "metadata": {},
      "source": [
        "# `ConformalGenerator`\n",
        "\n",
        "In this section, we will look at a simple example involving synthetic data, a black-box model and a generic Conformal Counterfactual Generator.\n",
        "\n",
        "## Black-box Model\n",
        "\n",
        "We consider a simple binary classification problem. Let $(X_i, Y_i), \\ i=1,...,n$ denote our feature-label pairs and let $\\mu: \\mathcal{X} \\mapsto \\mathcal{Y}$ denote the mapping from features to labels. For illustration purposes, we will use linearly separable data. \n"
      ],
      "id": "4c30df47"
    },
    {
      "cell_type": "code",
      "metadata": {},
      "source": [
        "counterfactual_data = load_linearly_separable()"
      ],
      "id": "b23030b1",
      "execution_count": null,
      "outputs": []
    },
    {
      "cell_type": "markdown",
      "metadata": {},
      "source": [
        "While we could use a linear classifier in this case, let's pretend we need a black-box model for this task and rely on a small Multi-Layer Perceptron (MLP):\n"
      ],
      "id": "c95f7897"
    },
    {
      "cell_type": "code",
      "metadata": {},
      "source": [
        "builder = MLJFlux.@builder Chain(\n",
        "    Dense(n_in, 32, relu),\n",
        "    Dense(32, n_out)\n",
        ")\n",
        "clf = NeuralNetworkClassifier(builder=builder, epochs=100)"
      ],
      "id": "aa6bb367",
      "execution_count": null,
      "outputs": []
    },
    {
      "cell_type": "markdown",
      "metadata": {},
      "source": [
        "We can fit this model to data to produce plug-in predictions. \n",
        "\n",
        "## Conformal Prediction\n",
        "\n",
        "Here we will instead use a specific case of CP called *split conformal prediction* which can then be summarized as follows:^[In other places split conformal prediction is sometimes referred to as *inductive* conformal prediction.]\n",
        "\n",
        "1. Partition the training into a proper training set and a separate calibration set: $\\mathcal{D}_n=\\mathcal{D}^{\\text{train}} \\cup \\mathcal{D}^{\\text{cali}}$.\n",
        "2. Train the machine learning model on the proper training set: $\\hat\\mu_{i \\in \\mathcal{D}^{\\text{train}}}(X_i,Y_i)$.\n",
        "\n",
        "The model $\\hat\\mu_{i \\in \\mathcal{D}^{\\text{train}}}$ can now produce plug-in predictions. \n",
        "\n",
        "::: callout-note\n",
        "\n",
        "## Starting Point\n",
        "\n",
        "Note that this represents the starting point in applications of Algorithmic Recourse: we have some pre-trained classifier $M$ for which we would like to generate plausible Counterfactual Explanations. Next, we turn to the calibration step. \n",
        ":::\n",
        "\n",
        "3. Compute nonconformity scores, $\\mathcal{S}$, using the calibration data $\\mathcal{D}^{\\text{cali}}$ and the fitted model $\\hat\\mu_{i \\in \\mathcal{D}^{\\text{train}}}$. \n",
        "4. For a user-specified desired coverage ratio $(1-\\alpha)$ compute the corresponding quantile, $\\hat{q}$, of the empirical distribution of nonconformity scores, $\\mathcal{S}$.\n",
        "5. For the given quantile and test sample $X_{\\text{test}}$, form the corresponding conformal prediction set: \n",
        "\n",
        "$$\n",
        "C(X_{\\text{test}})=\\{y:s(X_{\\text{test}},y) \\le \\hat{q}\\}\n",
        "$$ {#eq-set}\n",
        "\n",
        "This is the default procedure used for classification and regression in [`ConformalPrediction.jl`](https://github.com/pat-alt/ConformalPrediction.jl). \n",
        "\n",
        "Using the package, we can apply Split Conformal Prediction as follows:\n"
      ],
      "id": "56b7cbf3"
    },
    {
      "cell_type": "code",
      "metadata": {},
      "source": [
        "X = table(permutedims(counterfactual_data.X))\n",
        "y =  counterfactual_data.output_encoder.labels\n",
        "conf_model = conformal_model(clf; method=:simple_inductive)\n",
        "mach = machine(conf_model, X, y)\n",
        "fit!(mach)"
      ],
      "id": "508249d0",
      "execution_count": null,
      "outputs": []
    },
    {
      "cell_type": "markdown",
      "metadata": {},
      "source": [
        "To be clear, all of the calibration steps (3 to 5) are post hoc, and yet none of them involved any changes to the model parameters. These are two important characteristics of Split Conformal Prediction (SCP) that make it particularly useful in the context of Algorithmic Recourse. Firstly, the fact that SCP involves posthoc calibration steps that happen after training, ensures that we need not place any restrictions on the black-box model itself. This stands in contrast to the approach proposed by @schut2021generating in which they essentially restrict the class of models to Bayesian models. Secondly, the fact that the model itself is kept entirely intact ensures that the generated counterfactuals maintain fidelity to the model. Finally, note that we also have not resorted to a surrogate model to learn more about $X \\sim \\mathcal{X}$. Instead, we have used the fitted model itself and a calibration data set to learn about the model's predictive uncertainty. \n",
        "\n",
        "## Differentiable CP\n",
        "\n",
        "In order to use CP in the context of gradient-based counterfactual search, we need it to be differentiable. @stutz2022learning introduce a framework for training differentiable conformal predictors. They introduce a configurable loss function as well as smooth set size penalty.\n",
        "\n",
        "### Smooth Set Size Penalty\n",
        "\n",
        "Starting with the former, @stutz2022learning propose the following:\n",
        "\n",
        "$$\n",
        "\\Omega(C_{\\theta}(x;\\tau)) = = \\max (0, \\sum_k C_{\\theta,k}(x;\\tau) - \\kappa)\n",
        "$$ {#eq-size-loss}\n",
        "\n",
        "Here, $C_{\\theta,k}(x;\\tau)$ is loosely defined as the probability that class $k$ is assigned to the conformal prediction set $C$. In the context of Conformal Training, this penalty reduces the **inefficiency** of the conformal predictor. \n",
        "\n",
        "In our context, we are not interested in improving the model itself, but rather in producing **plausible** counterfactuals. Provided that our counterfactual $x^\\prime$ is already inside the target domain ($\\mathbb{I}_{y^\\prime = t}=1$), penalizing $\\Omega(C_{\\theta}(x;\\tau))$ corresponds to guiding counterfactuals into regions of the target domain that are characterized by low ambiguity: for $\\kappa=1$ the conformal prediction set includes only the target label $t$ as $\\Omega(C_{\\theta}(x;\\tau))$. Arguably, less ambiguous counterfactuals are more **plausible**. Since the search is guided purely by properties of the model itself and (exchangeable) calibration data, counterfactuals also maintain **high fidelity**.\n",
        "\n",
        "The left panel of @fig-losses shows the smooth size penalty in the two-dimensional feature space of our synthetic data.\n",
        "\n",
        "### Configurable Classification Loss\n",
        "\n",
        "The right panel of @fig-losses shows the configurable classification loss in the two-dimensional feature space of our synthetic data.\n"
      ],
      "id": "89d53442"
    },
    {
      "cell_type": "code",
      "metadata": {},
      "source": [
        "#| output: true\n",
        "#| echo: false\n",
        "#| label: fig-losses\n",
        "#| fig-cap: Illustration of the smooth size loss and the configurable classification loss.\n",
        "\n",
        "temp = 0.5\n",
        "p1 = contourf(mach.model, mach.fitresult, X, y; plot_set_loss=true, zoom=0, temp=temp)\n",
        "p2 = contourf(mach.model, mach.fitresult, X, y; plot_classification_loss=true, target=1, zoom=0, temp=temp, clim=nothing, loss_matrix=ones(2,2))\n",
        "plot(p1, p2, size=(800,320))"
      ],
      "id": "fig-losses",
      "execution_count": null,
      "outputs": []
    },
    {
      "cell_type": "markdown",
      "metadata": {},
      "source": [
        "## Fidelity and Plausibility\n",
        "\n",
        "The main evaluation criteria we are interested in are *fidelity* and *plausibility*. Interestingly, we could also consider using these measures as penalties in the counterfactual search.\n",
        "\n",
        "### Fidelity\n",
        "\n",
        "We propose to define fidelity as follows:\n",
        "\n",
        "::: {#def-fidelity}\n",
        "\n",
        "## High-Fidelity Counterfactuals\n",
        "\n",
        "Let $\\mathcal{X}_{\\theta}|y = p_{\\theta}(X|y)$ denote the class-conditional distribution of $X$ defined by $\\theta$. Then for $x^{\\prime}$ to be considered a high-fidelity counterfactual, we need: $\\mathcal{X}_{\\theta}|t \\approxeq \\mathcal{X}^{\\prime}$ where $t$ denotes the target outcome.\n",
        "\n",
        ":::\n",
        "\n",
        "We can generate samples from $p_{\\theta}(X|y)$ following @grathwohl2020your. In @fig-energy, I have applied the methodology to our synthetic data.\n"
      ],
      "id": "a7329cea"
    },
    {
      "cell_type": "code",
      "metadata": {},
      "source": [
        "#| fig-cap: Energy-based conditional samples.\n",
        "#| label: fig-energy\n",
        "\n",
        "M = CCE.ConformalModel(conf_model, mach.fitresult)\n",
        "\n",
        "niter = 100\n",
        "nsamples = 100\n",
        "\n",
        "plts = []\n",
        "for target ∈ counterfactual_data.y_levels\n",
        "    sampler = CCE.EnergySampler(M, counterfactual_data, target; niter=niter, nsamples=100)\n",
        "    Xgen = rand(sampler, nsamples)\n",
        "    plt = plot(M, counterfactual_data; target=target, zoom=-3,cbar=false)\n",
        "    scatter!(Xgen[1,:],Xgen[2,:],alpha=0.5,color=target,shape=:star,label=\"X|y=$target\")\n",
        "    push!(plts, plt)\n",
        "end\n",
        "plot(plts..., layout=(1,length(plts)), size=(img_height*length(plts),img_height))"
      ],
      "id": "fig-energy",
      "execution_count": null,
      "outputs": []
    },
    {
      "cell_type": "markdown",
      "metadata": {},
      "source": [
        "As an evaluation metric and penalty, we could use the average distance of the counterfactual $x^{\\prime}$ from these generated samples, for example.\n",
        "\n",
        "### Plausibility\n",
        "\n",
        "We propose to define plausibility as follows:\n",
        "\n",
        "::: {#def-plausible}\n",
        "\n",
        "## Plausible Counterfactuals\n",
        "\n",
        "Formally, let $\\mathcal{X}|t$ denote the conditional distribution of samples in the target class. As before, we have $x^{\\prime}\\sim\\mathcal{X}^{\\prime}$, then for $x^{\\prime}$ to be considered a plausible counterfactual, we need: $\\mathcal{X}|t \\approxeq \\mathcal{X}^{\\prime}$.\n",
        "\n",
        ":::\n",
        "\n",
        "As an evaluation metric and penalty, we could use the average distance of the counterfactual $x^{\\prime}$ from (potentially bootstrapped) training samples in the target class, for example.\n",
        "\n",
        "## Counterfactual Explanations\n",
        "\n",
        "Next, let's generate counterfactual explanations for our synthetic data. We first wrap our model in a container that makes it compatible with `CounterfactualExplanations.jl`. Then we draw a random sample, determine its predicted label $\\hat{y}$ and choose the opposite label as our target. \n"
      ],
      "id": "167a8309"
    },
    {
      "cell_type": "code",
      "metadata": {},
      "source": [
        "x = select_factual(counterfactual_data,rand(1:size(counterfactual_data.X,2)))\n",
        "y_factual = predict_label(M, counterfactual_data, x)[1]\n",
        "target = counterfactual_data.y_levels[counterfactual_data.y_levels .!= y_factual][1]"
      ],
      "id": "aa344e11",
      "execution_count": null,
      "outputs": []
    },
    {
      "cell_type": "markdown",
      "metadata": {},
      "source": [
        "The generic Conformal Counterfactual Generator penalises the only the set size only:\n",
        "\n",
        "$$\n",
        "x^\\prime = \\arg \\min_{x^\\prime}  \\ell(M(x^\\prime),t) + \\lambda \\mathbb{I}_{y^\\prime = t} \\Omega(C_{\\theta}(x;\\tau)) \n",
        "$$ {#eq-solution}\n"
      ],
      "id": "6d705569"
    },
    {
      "cell_type": "code",
      "metadata": {},
      "source": [
        "#| output: true\n",
        "#| echo: false\n",
        "#| label: fig-ce\n",
        "#| fig-cap: Comparison of counterfactuals produced using different generators.\n",
        "\n",
        "λ = 10.0\n",
        "\n",
        "opt = Descent(0.01)\n",
        "ordered_names = [\n",
        "    \"Distance x\",\n",
        "    \"Set Size\",\n",
        "    \"Distance X_θ|t\",\n",
        "    \"Distance X|t\"\n",
        "]\n",
        "loss_fun = Objectives.logitbinarycrossentropy\n",
        "generator = GenericGenerator(opt = opt)\n",
        "\n",
        "# Generators:\n",
        "generators = Dict(\n",
        "    ordered_names[1] => generator,\n",
        "    ordered_names[2] => deepcopy(generator) |> gen -> @objective(gen, _ + 0.1distance + 10.0set_size_penalty),\n",
        "    ordered_names[3] => deepcopy(generator) |> gen -> @objective(gen, _ + 0.1distance + 10.0distance_from_energy),\n",
        "    ordered_names[4] => deepcopy(generator) |> gen -> @objective(gen, _ + 0.1distance + 10.0distance_from_targets),\n",
        ")\n",
        "\n",
        "counterfactuals = Dict([name => generate_counterfactual(x, target, counterfactual_data, M, gen; initialization=:identity, converge_when=:generator_conditions, gradient_tol=1e-3) for (name, gen) in generators])\n",
        "\n",
        "# Plots:\n",
        "plts = []\n",
        "for name ∈ ordered_names\n",
        "    ce = counterfactuals[name]\n",
        "    plt = plot(ce; title=name, colorbar=false, ticks = false, legend=false, zoom=-0.5)\n",
        "    if :energy_sampler ∈ collect(keys(ce.params))\n",
        "        Xgen = ce.params[:energy_sampler].buffer\n",
        "        scatter!(Xgen[1,:],Xgen[2,:],alpha=0.5,color=target,shape=:star,label=\"X|y=$target\")\n",
        "    end\n",
        "    plts = vcat(plts..., plt)\n",
        "end\n",
        "_n = length(generators)\n",
        "plot(plts..., size=(_n * img_height,1.05*img_height), layout=(1,_n))"
      ],
      "id": "fig-ce",
      "execution_count": null,
      "outputs": []
    },
    {
      "cell_type": "markdown",
      "metadata": {},
      "source": [
        "### Benchmark\n"
      ],
      "id": "23703549"
    },
    {
      "cell_type": "code",
      "metadata": {},
      "source": [
        "#| output: false\n",
        "\n",
        "# Data:\n",
        "datasets = Dict(\n",
        "    :linearly_separable => load_linearly_separable(),\n",
        "    :overlapping => load_overlapping(),\n",
        "    :moons => load_moons(),\n",
        "    :circles => load_circles(),\n",
        ")\n",
        "\n",
        "# Models:\n",
        "models = Dict(\n",
        "    :MLP => M,\n",
        ")"
      ],
      "id": "60b7b6b1",
      "execution_count": null,
      "outputs": []
    },
    {
      "cell_type": "markdown",
      "metadata": {},
      "source": [
        "Then we can simply loop over the datasets and eventually concatenate the results like so:\n"
      ],
      "id": "10d69d5f"
    },
    {
      "cell_type": "code",
      "metadata": {},
      "source": [
        "#| output: false\n",
        "\n",
        "measure = \n",
        "using CounterfactualExplanations.Evaluation: benchmark\n",
        "bmks = []\n",
        "for (dataname, dataset) in datasets\n",
        "    bmk = benchmark(dataset; models=models, generators=generators, suppress_training=true, data_name=dataname)\n",
        "    push!(bmks, bmk)\n",
        "end\n",
        "bmk = reduce(vcat, bmks)"
      ],
      "id": "370a4431",
      "execution_count": null,
      "outputs": []
    },
    {
      "cell_type": "markdown",
      "metadata": {},
      "source": [
        "## Multi-Class\n"
      ],
      "id": "fcab2bf0"
    },
    {
      "cell_type": "code",
      "metadata": {},
      "source": [
        "counterfactual_data = load_multi_class()"
      ],
      "id": "cd4e3272",
      "execution_count": null,
      "outputs": []
    },
    {
      "cell_type": "code",
      "metadata": {},
      "source": [
        "X = table(permutedims(counterfactual_data.X))\n",
        "y =  counterfactual_data.output_encoder.labels\n",
        "conf_model = conformal_model(clf; method=:simple_inductive)\n",
        "mach = machine(conf_model, X, y)\n",
        "fit!(mach)"
      ],
      "id": "38531347",
      "execution_count": null,
      "outputs": []
    },
    {
      "cell_type": "code",
      "metadata": {},
      "source": [
        "#| output: true\n",
        "#| echo: false\n",
        "#| label: fig-losses-multi\n",
        "#| fig-cap: Illustration of the smooth size loss and the configurable classification loss.\n",
        "\n",
        "temp = 0.5\n",
        "p1 = contourf(mach.model, mach.fitresult, X, y; plot_set_loss=true, zoom=0, temp=temp)\n",
        "p2 = contourf(mach.model, mach.fitresult, X, y; plot_classification_loss=true, target=1, zoom=0, temp=temp, clim=nothing, loss_matrix=ones(4,4))\n",
        "plot(p1, p2, size=(800,320))"
      ],
      "id": "fig-losses-multi",
      "execution_count": null,
      "outputs": []
    },
    {
      "cell_type": "code",
      "metadata": {},
      "source": [
        "#| fig-cap: Energy-based conditional samples.\n",
        "#| label: fig-energy-multi\n",
        "\n",
        "niter = 100\n",
        "nsamples = 100\n",
        "M = CCE.ConformalModel(conf_model, mach.fitresult; likelihood=:classification_multi)\n",
        "\n",
        "plts = []\n",
        "for target ∈ counterfactual_data.y_levels\n",
        "    sampler = CCE.EnergySampler(M, counterfactual_data, target; niter=niter, nsamples=100)\n",
        "    Xgen = rand(sampler, nsamples)\n",
        "    plt = plot(M, counterfactual_data; target=target, zoom=-0.5,cbar=false)\n",
        "    scatter!(Xgen[1,:],Xgen[2,:],alpha=0.5,color=target,shape=:star,label=\"X|y=$target\")\n",
        "    push!(plts, plt)\n",
        "end\n",
        "plot(plts..., layout=(1,length(plts)), size=(img_height*length(plts),img_height))"
      ],
      "id": "fig-energy-multi",
      "execution_count": null,
      "outputs": []
    },
    {
      "cell_type": "code",
      "metadata": {},
      "source": [
        "x = select_factual(counterfactual_data,rand(1:size(counterfactual_data.X,2)))\n",
        "y_factual = predict_label(M, counterfactual_data, x)[1]\n",
        "target = counterfactual_data.y_levels[counterfactual_data.y_levels .!= y_factual][1]"
      ],
      "id": "aec30b5c",
      "execution_count": null,
      "outputs": []
    },
    {
      "cell_type": "code",
      "metadata": {},
      "source": [
        "counterfactuals = Dict([name => generate_counterfactual(x, target, counterfactual_data, M, gen; initialization=:identity, converge_when=:generator_conditions, gradient_tol=1e-3) for (name, gen) in generators])\n",
        "\n",
        "# Plots:\n",
        "plts = []\n",
        "for name ∈ ordered_names\n",
        "    ce = counterfactuals[name]\n",
        "    plt = plot(ce; title=name, colorbar=false, ticks = false, legend=false, zoom=-0.5)\n",
        "    if :energy_sampler ∈ collect(keys(ce.params))\n",
        "        Xgen = ce.params[:energy_sampler].buffer\n",
        "        scatter!(Xgen[1,:],Xgen[2,:],alpha=0.5,color=target,shape=:star,label=\"X|y=$target\")\n",
        "    end\n",
        "    plts = vcat(plts..., plt)\n",
        "end\n",
        "_n = length(generators)\n",
        "plot(plts..., size=(_n * img_height,1.05*img_height), layout=(1,_n))"
      ],
      "id": "7b7ee911",
      "execution_count": null,
      "outputs": []
    }
  ],
  "metadata": {
    "kernelspec": {
      "name": "julia-1.8",
      "language": "julia",
      "display_name": "Julia 1.8.5"
    }
  },
  "nbformat": 4,
  "nbformat_minor": 5
}